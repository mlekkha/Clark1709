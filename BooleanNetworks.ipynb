{
 "cells": [
  {
   "cell_type": "markdown",
   "id": "ebb066d3-5f9c-4f04-b1fe-48bd48162129",
   "metadata": {
    "tags": []
   },
   "source": [
    "# Boolean networks\n",
    "\n",
    "Here we will briefly work with Boolean logic and networks.\n",
    "\n",
    "## Boolean logic \n",
    "\n",
    "A Boolean variable only assumes two values such as **True** or **False** or **1** or **0**. We can create Boolean variables in python using the `=` operator. **Press `Shift+Enter` to run the code below**."
   ]
  },
  {
   "cell_type": "code",
   "execution_count": null,
   "id": "93ecb96d-33a5-4a16-8a3e-bbccafd596e3",
   "metadata": {},
   "outputs": [],
   "source": [
    "X = True\n",
    "Y = False"
   ]
  },
  {
   "cell_type": "markdown",
   "id": "7e24581a-eaf1-492c-b0bb-e44b024675f5",
   "metadata": {},
   "source": [
    "You can check whether a variable is true or false using the `if` statement. Below we are checking whether `X` is true or not. Change `X` to `Y` and press `Shift+Enter` to run the code and test `Y`'s value."
   ]
  },
  {
   "cell_type": "code",
   "execution_count": null,
   "id": "639454fc-d900-449f-98ac-9fc89760f020",
   "metadata": {},
   "outputs": [],
   "source": [
    "if X:\n",
    "    print('The variable is True')\n",
    "else:\n",
    "    print('The variable is False')"
   ]
  },
  {
   "attachments": {
    "f378c65f-8af4-4771-86aa-61dc532e67a2.png": {
     "image/png": "[encoded data removed]"
    }
   },
   "cell_type": "markdown",
   "id": "84bb51f0-dc39-478f-8acf-c755c94ee80f",
   "metadata": {},
   "source": [
    "In arithmetic we use **+** or **-** operations for computations. Similarly, in Boolean logic, we use **AND** and **OR** operations (also called gates) for computations. \n",
    "\n",
    "### The AND gate\n",
    "\n",
    "The **AND** gate produces an output that is true if and only if both the inputs are true.  \n",
    "\n",
    "![AND_ANSI.png](attachment:f378c65f-8af4-4771-86aa-61dc532e67a2.png)\n",
    "\n",
    "In python, the AND gate can be implemented using the `and` logical operator. Below we create a new variable `Z` which is an output of the AND gate."
   ]
  },
  {
   "cell_type": "code",
   "execution_count": null,
   "id": "e4532e4c-f2fc-4c01-9081-9fad135e354f",
   "metadata": {},
   "outputs": [],
   "source": [
    "Z = X and Y\n",
    "print('The value of Z is', Z)"
   ]
  },
  {
   "cell_type": "markdown",
   "id": "3d2a83f1-1f53-47dc-9ca0-3fba2e496646",
   "metadata": {},
   "source": [
    "Run the code below to see what `Z` is for every combination of the values of `X` and `Y`. Note that True/False are also represented as 1/0 respectively. ***Note***: press any key to see the next value."
   ]
  },
  {
   "cell_type": "code",
   "execution_count": null,
   "id": "1b2c2374-a343-4028-bf32-ea66f4fd426b",
   "metadata": {},
   "outputs": [],
   "source": [
    "print('  X |   Y |   Z ')\n",
    "print('----------------')\n",
    "for X in [False, True]:\n",
    "    for Y in [False, True]:\n",
    "        Z = X and Y\n",
    "        input('{:3} | {:3} | {:3}'.format(X, Y, Z) )"
   ]
  },
  {
   "attachments": {
    "7a0385c5-6c11-42bc-a24e-b16008d83085.png": {
     "image/png": "[encoded data removed]"
    }
   },
   "cell_type": "markdown",
   "id": "a6339fb2-56ec-4c26-bd50-c8ea98641714",
   "metadata": {},
   "source": [
    "### The OR gate\n",
    "\n",
    "The **OR** gate produces an output that is true if one or both inputs are true.  \n",
    "\n",
    "![OR_ANSI_Labelled.png](attachment:7a0385c5-6c11-42bc-a24e-b16008d83085.png)\n",
    "\n",
    "In python, the OR gate can be implemented using the `or` logical operator. Below we create a new variable `W` which is an output of the OR gate."
   ]
  },
  {
   "cell_type": "code",
   "execution_count": null,
   "id": "b53596cc-1ac4-436b-8d01-86fbec0682b2",
   "metadata": {},
   "outputs": [],
   "source": [
    "print('  X |   Y |   W ')\n",
    "print('----------------')\n",
    "for X in [False, True]:\n",
    "    for Y in [False, True]:\n",
    "        W = X or Y\n",
    "        input('{:3} | {:3} | {:3}'.format(X, Y, W) )"
   ]
  },
  {
   "attachments": {
    "0e4f71f0-2f53-4a37-af30-9438c0a5d307.png": {
     "image/png": "[encoded data removed]"
    }
   },
   "cell_type": "markdown",
   "id": "2c97bf3a-ff37-4c63-9c40-f72ffcc3600a",
   "metadata": {},
   "source": [
    "### The NOT gate\n",
    "\n",
    "The **NOT** gate produces an output that negates the input. It is false if the input is true and true if the input is false.  \n",
    "\n",
    "![Not-gate-en.png](attachment:0e4f71f0-2f53-4a37-af30-9438c0a5d307.png)\n",
    "\n",
    "In python, the NOT gate can be implemented using the `not` logical operator. Below we create a new variable `V` which is an output of the NOT gate."
   ]
  },
  {
   "cell_type": "code",
   "execution_count": null,
   "id": "4ac6e94a-ae27-4193-976f-4d2ec643ecc6",
   "metadata": {},
   "outputs": [],
   "source": [
    "print('  X |   V ')\n",
    "print('----------')\n",
    "for X in [False, True]:\n",
    "        V = not X\n",
    "        input('{:3} | {:3}'.format(X, V) )"
   ]
  },
  {
   "cell_type": "markdown",
   "id": "7c898580-cc81-45c8-91da-77abaf5d502b",
   "metadata": {},
   "source": [
    "Using these three basic gates it is possible to create very complicated logical circuits that can accomplish any computational task. In fact all computers, including smartphones are built using billions of such elementary gates!"
   ]
  },
  {
   "attachments": {
    "0bcf2ae2-5d52-4ef1-804c-20dca1b7d035.png": {
     "image/png": "[encoded data removed]"
    }
   },
   "cell_type": "markdown",
   "id": "81fefe0a-c8b3-48eb-a66b-904e963f95d5",
   "metadata": {},
   "source": [
    "## Boolean networks\n",
    "\n",
    "Next, we will construct Boolean networks where Boolean variables represent the state\n",
    "of a gene, **1** if the gene is being expressed (ON) and **0** if it is not (OFF). The genes regulate each other through the logic gates. \n",
    "\n",
    "\n",
    "### The bistable switch\n",
    "\n",
    "For example, consider a mutually antagonistic relationship between X and Y: X represses Y and Y represses X. This can be represented in code as `X = not Y` and `Y = not X`.\n",
    "\n",
    "![BistableSwitch.png](attachment:0bcf2ae2-5d52-4ef1-804c-20dca1b7d035.png)\n",
    "\n",
    "The network starts out in one of four states\n",
    "\n",
    "| State | X | Y |\n",
    "|-------|---|---|\n",
    "| S1    | 0 | 0 |\n",
    "| S2    | 0 | 1 |\n",
    "| S3    | 1 | 0 |\n",
    "| S4    | 1 | 1 |\n",
    "\n",
    "and the states evolve in time. Advance the simulation below by pressing any key. Observe how the states change in time. Does the state keep changing or settles down to a fixed value? Change the initial states to see whether these properties change. "
   ]
  },
  {
   "cell_type": "code",
   "execution_count": null,
   "id": "dc77c39c-e778-491b-aef7-a31eea6f52ce",
   "metadata": {},
   "outputs": [],
   "source": [
    "# Set the initial state\n",
    "\n",
    "X = 0\n",
    "Y = 0\n",
    "time = 0\n",
    "\n",
    "# Print header\n",
    "print(' Time | X | V ')\n",
    "print('--------------')\n",
    "\n",
    "while time < 10:\n",
    "    input('{:5} | {:1} | {:1}'.format(time, X, Y) )\n",
    "    Y = not X\n",
    "    X = not Y\n",
    "    time = time + 1"
   ]
  },
  {
   "cell_type": "markdown",
   "id": "c4141012-8a37-4384-ada5-be2708ce8792",
   "metadata": {},
   "source": [
    "### The repressilator\n",
    "\n",
    "Let's simulate a very famous synthetic gene circuit called the repressilator. It has three genes that repress each other in a chain: X -| Y -| Z -| X. \n",
    "\n",
    "Advance the simulation below by pressing any key. Observe how the states change in time. What kind of behavior does this Boolean network exhibit? "
   ]
  },
  {
   "cell_type": "code",
   "execution_count": null,
   "id": "c07669c3-c56a-42b7-8f8e-9eabdf79f9ce",
   "metadata": {},
   "outputs": [],
   "source": [
    "# Set the initial state\n",
    "\n",
    "X = 0\n",
    "Y = 0\n",
    "Z = 0\n",
    "time = 0\n",
    "\n",
    "# Print header\n",
    "print(' Time | X | Y | Z ')\n",
    "print('------------------')\n",
    "\n",
    "while time < 10:\n",
    "    input('{:5} | {:1} | {:1} | {:1}'.format(time, X, Y, Z) )\n",
    "    Y = not X\n",
    "    Z = not Y\n",
    "    X = not Z\n",
    "    time = time + 1"
   ]
  }
 ],
 "metadata": {
  "kernelspec": {
   "display_name": "Python 3 (ipykernel)",
   "language": "python",
   "name": "python3"
  },
  "language_info": {
   "codemirror_mode": {
    "name": "ipython",
    "version": 3
   },
   "file_extension": ".py",
   "mimetype": "text/x-python",
   "name": "python",
   "nbconvert_exporter": "python",
   "pygments_lexer": "ipython3",
   "version": "3.11.0"
  }
 },
 "nbformat": 4,
 "nbformat_minor": 5
}
