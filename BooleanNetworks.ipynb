{
 "cells": [
  {
   "cell_type": "markdown",
   "id": "ebb066d3-5f9c-4f04-b1fe-48bd48162129",
   "metadata": {
    "tags": []
   },
   "source": [
    "# Boolean networks\n",
    "\n",
    "Here we will briefly work with Boolean logic and networks.\n",
    "\n",
    "## Boolean logic \n",
    "\n",
    "A Boolean variable only assumes two values such as **TRUE** or **FALSE** or **1* or **0**. We can create Boolean variables in python "
   ]
  },
  {
   "cell_type": "code",
   "execution_count": null,
   "id": "93ecb96d-33a5-4a16-8a3e-bbccafd596e3",
   "metadata": {},
   "outputs": [],
   "source": []
  }
 ],
 "metadata": {
  "kernelspec": {
   "display_name": "Python 3 (ipykernel)",
   "language": "python",
   "name": "python3"
  },
  "language_info": {
   "codemirror_mode": {
    "name": "ipython",
    "version": 3
   },
   "file_extension": ".py",
   "mimetype": "text/x-python",
   "name": "python",
   "nbconvert_exporter": "python",
   "pygments_lexer": "ipython3",
   "version": "3.11.0"
  }
 },
 "nbformat": 4,
 "nbformat_minor": 5
}
